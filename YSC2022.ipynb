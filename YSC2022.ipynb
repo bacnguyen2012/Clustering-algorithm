{
 "cells": [
  {
   "cell_type": "code",
   "execution_count": 90,
   "id": "bc37411a-1d1b-449b-a41e-0d7945d68f1e",
   "metadata": {},
   "outputs": [],
   "source": [
    "import pandas as pd\n",
    "import folium\n",
    "from geopy.geocoders import ArcGIS\n",
    "import random \n",
    "from sklearn.cluster import KMeans\n",
    "from sklearn.preprocessing import MinMaxScaler\n",
    "from matplotlib import pyplot as plt\n",
    "from sklearn.datasets import make_blobs\n",
    "from yellowbrick.cluster import KElbowVisualizer\n",
    "%matplotlib inline"
   ]
  },
  {
   "cell_type": "code",
   "execution_count": null,
   "id": "4e36c6df-605a-4287-8b3c-936e88520d34",
   "metadata": {},
   "outputs": [],
   "source": [
    "colors = ['blue', 'green', 'purple', 'orange','lightred', 'beige', 'darkblue', 'darkgreen', 'cadetblue', 'darkpurple', 'pink', 'lightblue', 'lightgreen', 'gray', 'black', 'lightgray']\n",
    "len(colors)"
   ]
  },
  {
   "cell_type": "code",
   "execution_count": null,
   "id": "7d1f1265-0de3-434b-bb09-7d2ba541942d",
   "metadata": {},
   "outputs": [],
   "source": [
    "ad =  pd.read_excel('book3.xlsx');\n",
    "# ad.drop(ad.columns[[0,1,2,3]], axis=1, inplace=True)\n",
    "ad.head(5)"
   ]
  },
  {
   "cell_type": "code",
   "execution_count": 93,
   "id": "ad363628-f1bb-4f08-88ff-4f3a70e0d1d5",
   "metadata": {},
   "outputs": [],
   "source": [
    "ad['coordinates']=ad['Địa chỉ'].apply(ArcGIS().geocode) \n",
    "# ad['Địa chỉ']"
   ]
  },
  {
   "cell_type": "code",
   "execution_count": 94,
   "id": "46e93838-3e02-485b-902c-cc5f65fd8605",
   "metadata": {},
   "outputs": [],
   "source": [
    "ad['Latitude'] = ad['coordinates'].apply(lambda x: x.latitude)\n",
    "ad['Logtitude'] = ad['coordinates'].apply(lambda x: x.longitude)"
   ]
  },
  {
   "cell_type": "markdown",
   "id": "b2de821b-957e-43b1-b454-afa7f8c796d4",
   "metadata": {},
   "source": [
    "# Phân cụm các điểm \n"
   ]
  },
  {
   "cell_type": "code",
   "execution_count": null,
   "id": "23dff8b9-3ac3-45c3-8e6d-c1c03757aed0",
   "metadata": {},
   "outputs": [],
   "source": [
    "print(\"Nhập số cụm cần lấy: \")\n",
    "k = int(input())\n"
   ]
  },
  {
   "cell_type": "markdown",
   "id": "e0d38c88-0753-4881-b330-9f9ce16e56b2",
   "metadata": {},
   "source": [
    "# tạo một bảng khác chứa cluter và lat log"
   ]
  },
  {
   "cell_type": "code",
   "execution_count": 96,
   "id": "af274084-4bcb-4a17-953b-a90d621e3869",
   "metadata": {},
   "outputs": [],
   "source": [
    "coord = pd.DataFrame()"
   ]
  },
  {
   "cell_type": "code",
   "execution_count": 97,
   "id": "40530b98-f434-4508-bc62-2bf9941ae422",
   "metadata": {},
   "outputs": [],
   "source": [
    "km = KMeans(n_clusters = k)\n",
    "y_predicted = km.fit_predict(ad[['Latitude','Logtitude']])\n",
    "ad['Cluter'] = y_predicted\n",
    "coord['Latitude'] = ad['Latitude']\n",
    "coord['Logtitude'] = ad['Logtitude']\n",
    "coord['Cluter'] = ad['Cluter']\n",
    "points = coord[['Latitude','Logtitude']].values.tolist()\n",
    "point_center = km.cluster_centers_\n"
   ]
  },
  {
   "cell_type": "code",
   "execution_count": null,
   "id": "006605b7-ab50-42c2-b9a6-df6f29824cce",
   "metadata": {},
   "outputs": [],
   "source": [
    "point_center"
   ]
  },
  {
   "cell_type": "code",
   "execution_count": null,
   "id": "b13b3b18-e585-4023-ad4c-20e28d90f1b1",
   "metadata": {},
   "outputs": [],
   "source": [
    "cluter_ = []\n",
    "for i in range(k):\n",
    "    cluter_.append(coord[coord['Cluter'] == i])\n",
    "    # cluter_.append(coord[['Latitude','Logtitude']].values.tolist())\n",
    "cluter_\n"
   ]
  },
  {
   "cell_type": "markdown",
   "id": "c5e8394d-901a-443a-9e12-86356a82698b",
   "metadata": {},
   "source": [
    "# color"
   ]
  },
  {
   "cell_type": "code",
   "execution_count": 100,
   "id": "9889698d-96e0-466c-9e01-922061f743e4",
   "metadata": {},
   "outputs": [],
   "source": [
    "# Tinh toa do trung binh\n",
    "ave_lat = sum(p[0] for p in points)/len(points)\n",
    "ave_log = sum(p[1] for p in points)/len(points)\n",
    "file=folium.Map(location=[ave_lat,ave_log],zoom_start=15,min_zoom=1,max_zoom=20)\n",
    "# coord['Latitude']"
   ]
  },
  {
   "cell_type": "code",
   "execution_count": null,
   "id": "6d02eb54-73dc-4f81-aaa4-4ecfd12b26ef",
   "metadata": {
    "tags": []
   },
   "outputs": [],
   "source": [
    "for x in cluter_:\n",
    "    fg = folium.FeatureGroup(name = 'Map')\n",
    "    cl = random.choice(colors)\n",
    "    print(cl)\n",
    "    p = x[['Latitude','Logtitude']].values.tolist()\n",
    "    # print(p)\n",
    "    for i in p:\n",
    "        fg.add_child(folium.Marker(location = [i[0],i[1]],popup=i[0],icon = folium.Icon(icon = \"home\", color = cl)))\n",
    "    file.add_child(fg)\n",
    "file\n",
    "    \n",
    "# cluter_"
   ]
  },
  {
   "cell_type": "markdown",
   "id": "fcc9e327-0d00-41de-a8a8-b632fd2820f8",
   "metadata": {},
   "source": [
    "# CONVERT HULL"
   ]
  },
  {
   "cell_type": "code",
   "execution_count": 102,
   "id": "946a9874-968c-4148-b2e4-ada2529a4c80",
   "metadata": {},
   "outputs": [],
   "source": [
    "input_points = []\n",
    "for x in cluter_:\n",
    "    input_points.append(x[['Latitude','Logtitude']].values.tolist())"
   ]
  },
  {
   "cell_type": "code",
   "execution_count": null,
   "id": "4f3f9682-3231-4293-981a-aa4fd8887150",
   "metadata": {},
   "outputs": [],
   "source": [
    "input_points"
   ]
  },
  {
   "cell_type": "code",
   "execution_count": 104,
   "id": "d43250ca-f265-4b83-9df2-b02e862f79f3",
   "metadata": {},
   "outputs": [],
   "source": [
    "# Python3 program to find convex hull of a set of points. Refer\n",
    "# https://www.geeksforgeeks.org/orientation-3-ordered-points/\n",
    "# for explanation of orientation()\n",
    "\n",
    "# point class with x, y as point\n",
    "class Point:\n",
    "\tdef __init__(self, x, y):\n",
    "\t\tself.x = x\n",
    "\t\tself.y = y\n",
    "\n",
    "def Left_index(points):\n",
    "\t\n",
    "\t'''\n",
    "\tFinding the left most point\n",
    "\t'''\n",
    "\tminn = 0\n",
    "\tfor i in range(1,len(points)):\n",
    "\t\tif points[i].x < points[minn].x:\n",
    "\t\t\tminn = i\n",
    "\t\telif points[i].x == points[minn].x:\n",
    "\t\t\tif points[i].y > points[minn].y:\n",
    "\t\t\t\tminn = i\n",
    "\treturn minn\n",
    "\n",
    "def orientation(p, q, r):\n",
    "\t'''\n",
    "\tTo find orientation of ordered triplet (p, q, r).\n",
    "\tThe function returns following values\n",
    "\t0 --> p, q and r are collinear\n",
    "\t1 --> Clockwise\n",
    "\t2 --> Counterclockwise\n",
    "\t'''\n",
    "\tval = (q.y - p.y) * (r.x - q.x) - \\\n",
    "\t\t(q.x - p.x) * (r.y - q.y)\n",
    "\n",
    "\tif val == 0:\n",
    "\t\treturn 0\n",
    "\telif val > 0:\n",
    "\t\treturn 1\n",
    "\telse:\n",
    "\t\treturn 2\n",
    "\n",
    "def convexHull(points, n):\n",
    "\t\n",
    "\t# There must be at least 3 points\n",
    "\tif n < 3:\n",
    "\t\treturn\n",
    "\n",
    "\t# Find the leftmost point\n",
    "\tl = Left_index(points)\n",
    "\n",
    "\thull = []\n",
    "\t\n",
    "\t'''\n",
    "\tStart from leftmost point, keep moving counterclockwise\n",
    "\tuntil reach the start point again. This loop runs O(h)\n",
    "\ttimes where h is number of points in result or output.\n",
    "\t'''\n",
    "\tp = l\n",
    "\tq = 0\n",
    "\twhile(True):\n",
    "\t\t\n",
    "\t\t# Add current point to result\n",
    "\t\thull.append(p)\n",
    "\n",
    "\t\t'''\n",
    "\t\tSearch for a point 'q' such that orientation(p, q,\n",
    "\t\tx) is counterclockwise for all points 'x'. The idea\n",
    "\t\tis to keep track of last visited most counterclock-\n",
    "\t\twise point in q. If any point 'i' is more counterclock-\n",
    "\t\twise than q, then update q.\n",
    "\t\t'''\n",
    "\t\tq = (p + 1) % n\n",
    "\n",
    "\t\tfor i in range(n):\n",
    "\t\t\t\n",
    "\t\t\t# If i is more counterclockwise\n",
    "\t\t\t# than current q, then update q\n",
    "\t\t\tif(orientation(points[p],\n",
    "\t\t\t\t\t\tpoints[i], points[q]) == 2):\n",
    "\t\t\t\tq = i\n",
    "\n",
    "\t\t'''\n",
    "\t\tNow q is the most counterclockwise with respect to p\n",
    "\t\tSet p as q for next iteration, so that q is added to\n",
    "\t\tresult 'hull'\n",
    "\t\t'''\n",
    "\t\tp = q\n",
    "\n",
    "\t\t# While we don't come to first point\n",
    "\t\tif(p == l):\n",
    "\t\t\tbreak\n",
    "\n",
    "\t# Print Result\n",
    "\t# for each in hull:\n",
    "\t# \tprint(points[each].x, points[each].y)\n",
    "\tans = []\n",
    "\n",
    "\tfor each in hull:\n",
    "\t\tans.append([points[each].x, points[each].y])\n",
    "\treturn ans\n",
    "\n",
    "# Driver Code\n",
    "list_convex_hull = []\n",
    "for i in range(len(input_points)):\n",
    "  list_convex_hull.append([])\n",
    "for i in range(len(input_points)):\n",
    "  points = []\n",
    "  for point in input_points[i]:\n",
    "    points.append(Point(point[0], point[1]))\n",
    "  list_convex_hull[i] = convexHull(points, len(points))\n",
    "\n",
    "# This code is contributed by\n",
    "# Akarsh Somani, IIIT Kalyani\n"
   ]
  },
  {
   "cell_type": "code",
   "execution_count": null,
   "id": "18b527ba-0e97-4b48-87cd-37abbe28033e",
   "metadata": {},
   "outputs": [],
   "source": [
    "list_convex_hull"
   ]
  },
  {
   "cell_type": "markdown",
   "id": "5214a566-35f7-4b1d-9de3-c3bcb4cf1d92",
   "metadata": {},
   "source": [
    "# Vitual on map"
   ]
  },
  {
   "cell_type": "code",
   "execution_count": 106,
   "id": "82c55d3d-a8a9-4f08-a2a2-d288589d3053",
   "metadata": {},
   "outputs": [],
   "source": [
    "for i in list_convex_hull:\n",
    "    # for x in i:\n",
    "        # print(x)\n",
    "    if i == None:\n",
    "        continue\n",
    "    folium.PolyLine(i, color=\"green\", weight=2.5, opacity=1).add_to(file)\n",
    "    # print(len(i))\n",
    "    # break"
   ]
  },
  {
   "cell_type": "code",
   "execution_count": null,
   "id": "5733de79-9fc3-4742-82a5-b7d6d6c12369",
   "metadata": {},
   "outputs": [],
   "source": [
    "dem = 0\n",
    "for td in list_convex_hull:\n",
    "  if td == None:\n",
    "    continue\n",
    "  td.append(td[0])\n",
    "  path = folium.PolyLine(td,color=colors[dem],weight=2,popup='A line!',tooltip='First Line').add_to(file)\n",
    "  dem+=1\n",
    "# for x in point_center:\n",
    "#     print(x)\n",
    "    # file.add_child(folium.Marker(location=[x], popup=\"Toa do\", icon=folium.Icon(icon = \"home\", color = \"red\")))  \n",
    "point_center"
   ]
  },
  {
   "cell_type": "code",
   "execution_count": 108,
   "id": "f5d2c115-7faa-4060-a454-d95d9ee81129",
   "metadata": {},
   "outputs": [],
   "source": [
    "for i in point_center:\n",
    "    file.add_child(folium.Marker(location=[i[0],i[1]], popup=\"Toa do\", icon=folium.Icon(icon = \"fa-bus\", color = \"red\", prefix='fa')))  "
   ]
  },
  {
   "cell_type": "code",
   "execution_count": null,
   "id": "9a23e40b-5c9a-42f8-ae32-fdfc5b5ef6fa",
   "metadata": {},
   "outputs": [],
   "source": [
    "file"
   ]
  }
 ],
 "metadata": {
  "interpreter": {
   "hash": "b9ab610a55a5176458df2dff96f548f03c9f71ac1d536db2e7e5f1815100f41c"
  },
  "kernelspec": {
   "display_name": "Python 3.8.10 64-bit",
   "language": "python",
   "name": "python3"
  },
  "language_info": {
   "codemirror_mode": {
    "name": "ipython",
    "version": 3
   },
   "file_extension": ".py",
   "mimetype": "text/x-python",
   "name": "python",
   "nbconvert_exporter": "python",
   "pygments_lexer": "ipython3",
   "version": "3.8.10"
  },
  "widgets": {
   "application/vnd.jupyter.widget-state+json": {
    "state": {},
    "version_major": 2,
    "version_minor": 0
   }
  }
 },
 "nbformat": 4,
 "nbformat_minor": 5
}
